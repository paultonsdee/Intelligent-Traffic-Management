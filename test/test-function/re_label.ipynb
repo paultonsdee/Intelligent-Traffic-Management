{
 "cells": [
  {
   "cell_type": "code",
   "execution_count": 6,
   "metadata": {},
   "outputs": [
    {
     "name": "stderr",
     "output_type": "stream",
     "text": [
      "100%|██████████| 3798/3798 [00:01<00:00, 2730.51it/s]"
     ]
    },
    {
     "name": "stdout",
     "output_type": "stream",
     "text": [
      "Hoàn thành việc chuyển đổi class ID.\n"
     ]
    },
    {
     "name": "stderr",
     "output_type": "stream",
     "text": [
      "\n"
     ]
    }
   ],
   "source": [
    "import glob\n",
    "import os\n",
    "from tqdm import tqdm\n",
    "\n",
    "# Đường dẫn tới thư mục chứa các file label\n",
    "label_folder = '/Volumes/Data Extended/AIVN/Module 4/Vehicles-coco.v2i.yolov11/valid/labels'  # Cập nhật đường dẫn này cho phù hợp\n",
    "\n",
    "# Sử dụng glob để tìm tất cả các file .txt trong thư mục label\n",
    "label_files = glob.glob(os.path.join(label_folder, '*.txt'))\n",
    "\n",
    "for file_path in tqdm(label_files):\n",
    "    # Đọc nội dung file\n",
    "    with open(file_path, 'r') as file:\n",
    "        lines = file.readlines()\n",
    "    \n",
    "    # Lưu trữ các dòng đã chỉnh sửa\n",
    "    updated_lines = []\n",
    "    for line in lines:\n",
    "        parts = line.strip().split()\n",
    "        if len(parts) >= 5:\n",
    "            class_id = parts[0]\n",
    "            \n",
    "            # Đổi class_id từ 0 thành 2 và từ 2 thành 0\n",
    "            if class_id == '0':\n",
    "                parts[0] = '2'\n",
    "            elif class_id == '2':\n",
    "                parts[0] = '0'\n",
    "            \n",
    "            # Ghép lại dòng với class_id đã chỉnh sửa\n",
    "            updated_line = ' '.join(parts)\n",
    "            updated_lines.append(updated_line)\n",
    "    \n",
    "    # Ghi lại vào file\n",
    "    with open(file_path, 'w') as file:\n",
    "        file.write('\\n'.join(updated_lines) + '\\n')\n",
    "\n",
    "print(\"Hoàn thành việc chuyển đổi class ID.\")\n"
   ]
  },
  {
   "cell_type": "code",
   "execution_count": 9,
   "metadata": {},
   "outputs": [
    {
     "name": "stderr",
     "output_type": "stream",
     "text": [
      "100%|██████████| 3/3 [00:49<00:00, 16.44s/it]\n",
      "100%|██████████| 3/3 [00:33<00:00, 11.29s/it]"
     ]
    },
    {
     "name": "stdout",
     "output_type": "stream",
     "text": [
      "Hoàn thành việc gộp dữ liệu cho các thư mục train, valid, và test.\n"
     ]
    },
    {
     "name": "stderr",
     "output_type": "stream",
     "text": [
      "\n"
     ]
    }
   ],
   "source": [
    "import os\n",
    "import shutil\n",
    "from glob import glob\n",
    "from tqdm import tqdm\n",
    "\n",
    "# Đường dẫn đến các bộ dữ liệu nguồn và thư mục đích\n",
    "dataset1_path = '/Volumes/Data Extended/AIVN/Module 4/day_final'  # Thay bằng đường dẫn của bộ dữ liệu thứ nhất\n",
    "dataset2_path = '/Volumes/Data Extended/AIVN/Module 4/Vehicles-night'  # Thay bằng đường dẫn của bộ dữ liệu thứ hai\n",
    "merged_dataset_path = '/Volumes/Data Extended/AIVN/Module 4/combined_final'  # Đường dẫn tới bộ dữ liệu gộp\n",
    "\n",
    "# Các thư mục trong bộ dữ liệu gộp\n",
    "folders = ['train', 'valid', 'test']\n",
    "for folder in folders:\n",
    "    os.makedirs(os.path.join(merged_dataset_path, folder, 'images'), exist_ok=True)\n",
    "    os.makedirs(os.path.join(merged_dataset_path, folder, 'labels'), exist_ok=True)\n",
    "\n",
    "# Hàm để sao chép các file ảnh và nhãn\n",
    "def copy_files(source_folder, dest_folder):\n",
    "    for img_path in glob(os.path.join(source_folder, 'images', '*.jpg')):\n",
    "        img_name = os.path.basename(img_path)\n",
    "        label_path = img_path.replace('images', 'labels').replace('.jpg', '.txt')\n",
    "        \n",
    "        # Sao chép ảnh\n",
    "        shutil.copy(img_path, os.path.join(dest_folder, 'images', img_name))\n",
    "        \n",
    "        # Sao chép nhãn\n",
    "        if os.path.exists(label_path):\n",
    "            shutil.copy(label_path, os.path.join(dest_folder, 'labels', os.path.basename(label_path)))\n",
    "\n",
    "# Sao chép dữ liệu từ dataset1\n",
    "for folder in tqdm(folders):\n",
    "    copy_files(os.path.join(dataset1_path, folder), os.path.join(merged_dataset_path, folder))\n",
    "\n",
    "# Sao chép dữ liệu từ dataset2\n",
    "for folder in tqdm(folders):\n",
    "    copy_files(os.path.join(dataset2_path, folder), os.path.join(merged_dataset_path, folder))\n",
    "\n",
    "print(\"Hoàn thành việc gộp dữ liệu cho các thư mục train, valid, và test.\")\n"
   ]
  }
 ],
 "metadata": {
  "kernelspec": {
   "display_name": "base",
   "language": "python",
   "name": "python3"
  },
  "language_info": {
   "codemirror_mode": {
    "name": "ipython",
    "version": 3
   },
   "file_extension": ".py",
   "mimetype": "text/x-python",
   "name": "python",
   "nbconvert_exporter": "python",
   "pygments_lexer": "ipython3",
   "version": "3.11.8"
  }
 },
 "nbformat": 4,
 "nbformat_minor": 2
}
