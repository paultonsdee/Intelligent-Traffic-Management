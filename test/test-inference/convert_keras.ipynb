{
 "cells": [
  {
   "cell_type": "code",
   "execution_count": 3,
   "metadata": {},
   "outputs": [],
   "source": [
    "from tensorflow import keras\n",
    "\n",
    "# Tải mô hình từ thư mục SavedModel\n",
    "model = keras.models.load_model('/Users/phatvu/Downloads/LSTM')\n"
   ]
  },
  {
   "cell_type": "code",
   "execution_count": 1,
   "metadata": {},
   "outputs": [
    {
     "name": "stdout",
     "output_type": "stream",
     "text": [
      "Collecting tf2onnx\n",
      "  Downloading tf2onnx-1.16.1-py3-none-any.whl.metadata (1.3 kB)\n",
      "Requirement already satisfied: numpy>=1.14.1 in /Users/phatvu/miniconda3/envs/aiot/lib/python3.8/site-packages (from tf2onnx) (1.24.4)\n",
      "Collecting onnx>=1.4.1 (from tf2onnx)\n",
      "  Downloading onnx-1.17.0-cp38-cp38-macosx_12_0_universal2.whl.metadata (16 kB)\n",
      "Requirement already satisfied: requests in /Users/phatvu/miniconda3/envs/aiot/lib/python3.8/site-packages (from tf2onnx) (2.32.3)\n",
      "Requirement already satisfied: six in /Users/phatvu/miniconda3/envs/aiot/lib/python3.8/site-packages (from tf2onnx) (1.16.0)\n",
      "Requirement already satisfied: flatbuffers>=1.12 in /Users/phatvu/miniconda3/envs/aiot/lib/python3.8/site-packages (from tf2onnx) (2.0.7)\n",
      "Requirement already satisfied: protobuf~=3.20 in /Users/phatvu/miniconda3/envs/aiot/lib/python3.8/site-packages (from tf2onnx) (3.20.0)\n",
      "Collecting protobuf~=3.20 (from tf2onnx)\n",
      "  Using cached protobuf-3.20.3-py2.py3-none-any.whl.metadata (720 bytes)\n",
      "Requirement already satisfied: charset-normalizer<4,>=2 in /Users/phatvu/miniconda3/envs/aiot/lib/python3.8/site-packages (from requests->tf2onnx) (3.4.0)\n",
      "Requirement already satisfied: idna<4,>=2.5 in /Users/phatvu/miniconda3/envs/aiot/lib/python3.8/site-packages (from requests->tf2onnx) (3.10)\n",
      "Requirement already satisfied: urllib3<3,>=1.21.1 in /Users/phatvu/miniconda3/envs/aiot/lib/python3.8/site-packages (from requests->tf2onnx) (2.2.3)\n",
      "Requirement already satisfied: certifi>=2017.4.17 in /Users/phatvu/miniconda3/envs/aiot/lib/python3.8/site-packages (from requests->tf2onnx) (2024.8.30)\n",
      "Downloading tf2onnx-1.16.1-py3-none-any.whl (455 kB)\n",
      "Downloading onnx-1.17.0-cp38-cp38-macosx_12_0_universal2.whl (16.6 MB)\n",
      "\u001b[2K   \u001b[90m━━━━━━━━━━━━━━━━━━━━━━━━━━━━━━━━━━━━━━━━\u001b[0m \u001b[32m16.6/16.6 MB\u001b[0m \u001b[31m3.5 MB/s\u001b[0m eta \u001b[36m0:00:00\u001b[0ma \u001b[36m0:00:01\u001b[0m\n",
      "\u001b[?25hUsing cached protobuf-3.20.3-py2.py3-none-any.whl (162 kB)\n",
      "Installing collected packages: protobuf, onnx, tf2onnx\n",
      "  Attempting uninstall: protobuf\n",
      "    Found existing installation: protobuf 3.20.0\n",
      "    Uninstalling protobuf-3.20.0:\n",
      "      Successfully uninstalled protobuf-3.20.0\n",
      "\u001b[31mERROR: pip's dependency resolver does not currently take into account all the packages that are installed. This behaviour is the source of the following dependency conflicts.\n",
      "grpcio-status 1.62.3 requires protobuf>=4.21.6, but you have protobuf 3.20.3 which is incompatible.\u001b[0m\u001b[31m\n",
      "\u001b[0mSuccessfully installed onnx-1.17.0 protobuf-3.20.3 tf2onnx-1.16.1\n",
      "Note: you may need to restart the kernel to use updated packages.\n"
     ]
    }
   ],
   "source": [
    "pip install tf2onnx\n"
   ]
  },
  {
   "cell_type": "code",
   "execution_count": 4,
   "metadata": {},
   "outputs": [],
   "source": [
    "model.save('LSTM_model.h5')"
   ]
  },
  {
   "cell_type": "code",
   "execution_count": 5,
   "metadata": {},
   "outputs": [],
   "source": [
    "import tensorflow as tf\n",
    "import tf2onnx\n",
    "\n",
    "# Bước 1: Tải mô hình từ file .h5\n",
    "model = tf.keras.models.load_model('LSTM_model.h5')\n",
    "\n",
    "# Bước 2: Chuyển đổi mô hình sang định dạng ONNX\n",
    "onnx_model, _ = tf2onnx.convert.from_keras(model, opset=13)  # Opset là phiên bản ONNX, có thể điều chỉnh\n",
    "\n",
    "# Bước 3: Lưu mô hình ONNX ra file\n",
    "with open(\"LSTM_model.onnx\", \"wb\") as f:\n",
    "    f.write(onnx_model.SerializeToString())\n"
   ]
  },
  {
   "cell_type": "code",
   "execution_count": 1,
   "metadata": {},
   "outputs": [],
   "source": [
    "from tensorflow import keras\n",
    "\n",
    "# Đường dẫn đến thư mục chứa mô hình SavedModel\n",
    "saved_model_path = 'CNN_model.h5'\n",
    "\n",
    "# Tải mô hình\n",
    "model = keras.models.load_model(saved_model_path)\n"
   ]
  }
 ],
 "metadata": {
  "kernelspec": {
   "display_name": "aiot",
   "language": "python",
   "name": "python3"
  },
  "language_info": {
   "codemirror_mode": {
    "name": "ipython",
    "version": 3
   },
   "file_extension": ".py",
   "mimetype": "text/x-python",
   "name": "python",
   "nbconvert_exporter": "python",
   "pygments_lexer": "ipython3",
   "version": "3.8.20"
  }
 },
 "nbformat": 4,
 "nbformat_minor": 2
}
