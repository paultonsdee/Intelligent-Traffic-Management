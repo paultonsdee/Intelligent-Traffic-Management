{
 "cells": [
  {
   "cell_type": "code",
   "execution_count": 14,
   "metadata": {},
   "outputs": [],
   "source": [
    "password = \"ypir iugo vmjl wxoc\"\n",
    "from_email = \"vhp08072004@gmail.com\"  # must match the email used to generate the password\n",
    "to_email = \"vhp08071974@gmail.com\"  # receiver email"
   ]
  },
  {
   "cell_type": "code",
   "execution_count": 15,
   "metadata": {},
   "outputs": [
    {
     "name": "stdout",
     "output_type": "stream",
     "text": [
      "Email đã được gửi thành công!\n"
     ]
    }
   ],
   "source": [
    "import smtplib\n",
    "\n",
    "# Thông tin tài khoản gửi email\n",
    "from_email = \"your_email@gmail.com\"\n",
    "password = \"your_password\"\n",
    "to_email = \"recipient_email@example.com\"\n",
    "subject = \"Subject of the Email\"\n",
    "message_body = \"This is the body of the email.\"\n",
    "\n",
    "# Kết nối đến máy chủ SMTP của Gmail\n",
    "server = smtplib.SMTP(\"smtp.gmail.com\", 587)\n",
    "server.starttls()  # Kích hoạt chế độ bảo mật TLS\n",
    "\n",
    "try:\n",
    "    # Đăng nhập vào tài khoản Gmail\n",
    "    server.login(from_email, password)\n",
    "    \n",
    "    # Tạo nội dung email\n",
    "    message = f\"Subject: {subject}\\n\\n{message_body}\"\n",
    "    \n",
    "    # Gửi email\n",
    "    server.sendmail(from_email, to_email, message)\n",
    "    print(\"Email đã được gửi thành công!\")\n",
    "except Exception as e:\n",
    "    print(f\"Không thể gửi email: {e}\")\n",
    "finally:\n",
    "    # Đóng kết nối với server\n",
    "    server.quit()"
   ]
  },
  {
   "cell_type": "code",
   "execution_count": null,
   "metadata": {},
   "outputs": [],
   "source": [
    "from email.mime.multipart import MIMEMultipart\n",
    "from email.mime.text import MIMEText\n",
    "\n",
    "\n",
    "def send_email(to_email, from_email, object_detected=1):\n",
    "    \"\"\"Sends an email notification indicating the number of objects detected; defaults to 1 object.\"\"\"\n",
    "    message = MIMEMultipart()\n",
    "    message[\"From\"] = from_email\n",
    "    message[\"To\"] = to_email\n",
    "    message[\"Subject\"] = \"Security Alert\"\n",
    "    # Add in the message body\n",
    "    message_body = f\"ALERT - {object_detected} objects has been detected!!\"\n",
    "\n",
    "    message.attach(MIMEText(message_body, \"plain\"))\n",
    "    server.sendmail(from_email, to_email, message.as_string())"
   ]
  },
  {
   "cell_type": "code",
   "execution_count": null,
   "metadata": {},
   "outputs": [],
   "source": [
    "from time import time\n",
    "\n",
    "import cv2\n",
    "import torch\n",
    "\n",
    "from ultralytics import YOLO\n",
    "from ultralytics.utils.plotting import Annotator, colors\n",
    "\n",
    "\n",
    "class ObjectDetection:\n",
    "    def __init__(self, capture_index):\n",
    "        \"\"\"Initializes an ObjectDetection instance with a given camera index.\"\"\"\n",
    "        self.capture_index = capture_index\n",
    "        self.email_sent = False\n",
    "\n",
    "        # model information\n",
    "        self.model = YOLO(\"yolo11n.pt\")\n",
    "\n",
    "        # visual information\n",
    "        self.annotator = None\n",
    "        self.start_time = 0\n",
    "        self.end_time = 0\n",
    "\n",
    "        # device information\n",
    "        self.device = \"cuda\" if torch.cuda.is_available() else \"cpu\"\n",
    "\n",
    "    def predict(self, im0):\n",
    "        \"\"\"Run prediction using a YOLO model for the input image `im0`.\"\"\"\n",
    "        results = self.model(im0)\n",
    "        return results\n",
    "\n",
    "    def display_fps(self, im0):\n",
    "        \"\"\"Displays the FPS on an image `im0` by calculating and overlaying as white text on a black rectangle.\"\"\"\n",
    "        self.end_time = time()\n",
    "        fps = 1 / round(self.end_time - self.start_time, 2)\n",
    "        text = f\"FPS: {int(fps)}\"\n",
    "        text_size = cv2.getTextSize(text, cv2.FONT_HERSHEY_SIMPLEX, 1.0, 2)[0]\n",
    "        gap = 10\n",
    "        cv2.rectangle(\n",
    "            im0,\n",
    "            (20 - gap, 70 - text_size[1] - gap),\n",
    "            (20 + text_size[0] + gap, 70 + gap),\n",
    "            (255, 255, 255),\n",
    "            -1,\n",
    "        )\n",
    "        cv2.putText(im0, text, (20, 70), cv2.FONT_HERSHEY_SIMPLEX, 1.0, (0, 0, 0), 2)\n",
    "\n",
    "    def plot_bboxes(self, results, im0):\n",
    "        \"\"\"Plots bounding boxes on an image given detection results; returns annotated image and class IDs.\"\"\"\n",
    "        class_ids = []\n",
    "        self.annotator = Annotator(im0, 3, results[0].names)\n",
    "        boxes = results[0].boxes.xyxy.cpu()\n",
    "        clss = results[0].boxes.cls.cpu().tolist()\n",
    "        names = results[0].names\n",
    "        for box, cls in zip(boxes, clss):\n",
    "            class_ids.append(cls)\n",
    "            self.annotator.box_label(box, label=names[int(cls)], color=colors(int(cls), True))\n",
    "        return im0, class_ids\n",
    "\n",
    "    def __call__(self):\n",
    "        \"\"\"Run object detection on video frames from a camera stream, plotting and showing the results.\"\"\"\n",
    "        cap = cv2.VideoCapture(self.capture_index)\n",
    "        assert cap.isOpened()\n",
    "        cap.set(cv2.CAP_PROP_FRAME_WIDTH, 640)\n",
    "        cap.set(cv2.CAP_PROP_FRAME_HEIGHT, 480)\n",
    "        frame_count = 0\n",
    "        while True:\n",
    "            self.start_time = time()\n",
    "            ret, im0 = cap.read()\n",
    "            assert ret\n",
    "            results = self.predict(im0)\n",
    "            im0, class_ids = self.plot_bboxes(results, im0)\n",
    "\n",
    "            if len(class_ids) > 0:  # Only send email If not sent before\n",
    "                if not self.email_sent:\n",
    "                    send_email(to_email, from_email, len(class_ids))\n",
    "                    self.email_sent = True\n",
    "            else:\n",
    "                self.email_sent = False\n",
    "\n",
    "            self.display_fps(im0)\n",
    "            cv2.imshow(\"YOLO11 Detection\", im0)\n",
    "            frame_count += 1\n",
    "            if cv2.waitKey(5) & 0xFF == 27:\n",
    "                break\n",
    "        cap.release()\n",
    "        cv2.destroyAllWindows()\n",
    "        server.quit()"
   ]
  },
  {
   "cell_type": "code",
   "execution_count": null,
   "metadata": {},
   "outputs": [],
   "source": [
    "detector = ObjectDetection(capture_index=0)\n",
    "detector()"
   ]
  },
  {
   "cell_type": "code",
   "execution_count": null,
   "metadata": {},
   "outputs": [],
   "source": []
  },
  {
   "cell_type": "code",
   "execution_count": 2,
   "metadata": {},
   "outputs": [
    {
     "name": "stdout",
     "output_type": "stream",
     "text": [
      "Available physical devices:\n",
      "PhysicalDevice(name='/physical_device:CPU:0', device_type='CPU')\n",
      "PhysicalDevice(name='/physical_device:GPU:0', device_type='GPU')\n",
      "TensorFlow is using GPU: ['/physical_device:GPU:0']\n"
     ]
    }
   ],
   "source": [
    "import tensorflow as tf\n",
    "def configure_tensorflow():\n",
    "    physical_devices = tf.config.list_physical_devices()\n",
    "    print(\"Available physical devices:\")\n",
    "    for device in physical_devices:\n",
    "        print(device)\n",
    "    \n",
    "    mps_devices = tf.config.list_physical_devices('MPS')\n",
    "    gpus = tf.config.list_physical_devices('GPU')\n",
    "    \n",
    "    if mps_devices:\n",
    "        try:\n",
    "            for device in mps_devices:\n",
    "                tf.config.experimental.set_memory_growth(device, True)\n",
    "            print(f\"TensorFlow is using MPS: {[device.name for device in mps_devices]}\")\n",
    "            return 'MPS'\n",
    "        except Exception as e:\n",
    "            print(f\"Error configuring TensorFlow for MPS: {e}\")\n",
    "    \n",
    "    elif gpus:\n",
    "        try:\n",
    "            for gpu in gpus:\n",
    "                tf.config.experimental.set_memory_growth(gpu, True)\n",
    "            print(f\"TensorFlow is using GPU: {[gpu.name for gpu in gpus]}\")\n",
    "            return 'GPU'\n",
    "        except Exception as e:\n",
    "            print(f\"Error configuring TensorFlow for GPU: {e}\")\n",
    "    \n",
    "    else:\n",
    "        print(\"TensorFlow is using CPU\")\n",
    "        return 'CPU'\n",
    "\n",
    "device_tf = configure_tensorflow()"
   ]
  },
  {
   "cell_type": "code",
   "execution_count": 3,
   "metadata": {},
   "outputs": [
    {
     "name": "stderr",
     "output_type": "stream",
     "text": [
      "2024-11-05 23:54:23.163672: I metal_plugin/src/device/metal_device.cc:1154] Metal device set to: Apple M1\n",
      "2024-11-05 23:54:23.163750: I metal_plugin/src/device/metal_device.cc:296] systemMemory: 16.00 GB\n",
      "2024-11-05 23:54:23.163760: I metal_plugin/src/device/metal_device.cc:313] maxCacheSize: 5.33 GB\n",
      "2024-11-05 23:54:23.176072: I tensorflow/core/common_runtime/pluggable_device/pluggable_device_factory.cc:303] Could not identify NUMA node of platform GPU ID 0, defaulting to 0. Your kernel may not have been built with NUMA support.\n",
      "2024-11-05 23:54:23.180916: I tensorflow/core/common_runtime/pluggable_device/pluggable_device_factory.cc:269] Created TensorFlow device (/job:localhost/replica:0/task:0/device:GPU:0 with 0 MB memory) -> physical PluggableDevice (device: 0, name: METAL, pci bus id: <undefined>)\n"
     ]
    },
    {
     "data": {
      "text/plain": [
       "<tensorflow.python.eager.context._EagerDeviceContext at 0x1091879c0>"
      ]
     },
     "execution_count": 3,
     "metadata": {},
     "output_type": "execute_result"
    }
   ],
   "source": [
    "tf.device('/MPS:0')"
   ]
  },
  {
   "cell_type": "code",
   "execution_count": null,
   "metadata": {},
   "outputs": [
    {
     "data": {
      "image/png": "[encoded data removed]",
      "text/plain": [
       "<Figure size 1000x500 with 2 Axes>"
      ]
     },
     "metadata": {},
     "output_type": "display_data"
    }
   ],
   "source": [
    "import cv2\n",
    "import numpy as np\n",
    "import matplotlib.pyplot as plt\n",
    "\n",
    "def crop_to_region(frame, region):\n",
    "    pts = np.array(region, np.int32)\n",
    "    mask = np.zeros(frame.shape[:2], dtype=np.uint8)\n",
    "    cv2.fillPoly(mask, [pts], 255)\n",
    "    roi = cv2.bitwise_and(frame, frame, mask=mask)\n",
    "    x, y, w, h = cv2.boundingRect(pts)\n",
    "    roi_cropped = roi[y:y+h, x:x+w]\n",
    "    return roi_cropped\n",
    "\n",
    "# Tạo một ảnh mẫu (hoặc bạn có thể dùng một ảnh từ file)\n",
    "frame = np.zeros((200, 300, 3), dtype=np.uint8)\n",
    "frame[50:150, 100:200] = (255, 0, 0)  # Tạo một hình chữ nhật màu đỏ trên nền đen\n",
    "\n",
    "# Định nghĩa vùng (đa giác) cần cắt (định dạng [x, y])\n",
    "region = [(120, 60), (180, 60), (200, 120), (140, 140), (100, 100)]\n",
    "\n",
    "# Gọi hàm crop_to_region\n",
    "cropped_region = crop_to_region(frame, region)\n",
    "\n",
    "# Hiển thị ảnh gốc và ảnh đã cắt\n",
    "plt.figure(figsize=(10, 5))\n",
    "\n",
    "plt.subplot(1, 2, 1)\n",
    "plt.title(\"Original Frame\")\n",
    "plt.imshow(cv2.cvtColor(frame, cv2.COLOR_BGR2RGB))\n",
    "\n",
    "plt.subplot(1, 2, 2)\n",
    "plt.title(\"Cropped Region\")\n",
    "plt.imshow(cv2.cvtColor(cropped_region, cv2.COLOR_BGR2RGB))\n",
    "\n",
    "plt.show()\n"
   ]
  }
 ],
 "metadata": {
  "kernelspec": {
   "display_name": "base",
   "language": "python",
   "name": "python3"
  },
  "language_info": {
   "codemirror_mode": {
    "name": "ipython",
    "version": 3
   },
   "file_extension": ".py",
   "mimetype": "text/x-python",
   "name": "python",
   "nbconvert_exporter": "python",
   "pygments_lexer": "ipython3",
   "version": "3.11.8"
  }
 },
 "nbformat": 4,
 "nbformat_minor": 2
}
